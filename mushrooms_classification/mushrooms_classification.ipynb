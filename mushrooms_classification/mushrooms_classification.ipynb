{
  "nbformat": 4,
  "nbformat_minor": 0,
  "metadata": {
    "colab": {
      "provenance": [],
      "gpuType": "T4"
    },
    "kernelspec": {
      "name": "python3",
      "display_name": "Python 3"
    },
    "language_info": {
      "name": "python"
    },
    "accelerator": "GPU"
  },
  "cells": [
    {
      "cell_type": "code",
      "execution_count": null,
      "metadata": {
        "colab": {
          "base_uri": "https://localhost:8080/"
        },
        "id": "uSsN7m8uUzfe",
        "outputId": "41cd8ff0-3550-4e06-e9f5-614a35c3ba27"
      },
      "outputs": [
        {
          "output_type": "stream",
          "name": "stdout",
          "text": [
            "Mounted at /content/drive\n"
          ]
        }
      ],
      "source": [
        "from google.colab import drive\n",
        "drive.mount('/content/drive')\n"
      ]
    },
    {
      "cell_type": "code",
      "source": [
        "import pandas as pd\n",
        "import requests\n",
        "from tqdm import tqdm\n",
        "import os\n",
        "import shutil\n",
        "from PIL import Image\n",
        "from sklearn.model_selection import train_test_split\n",
        "import seaborn as sns\n",
        "import matplotlib.pyplot as plt\n",
        "from IPython.display import clear_output\n",
        "import torch\n",
        "import torchvision.transforms as T\n",
        "from torch.utils.data import Dataset, DataLoader\n"
      ],
      "metadata": {
        "id": "5IuA05AcYiX7"
      },
      "execution_count": null,
      "outputs": []
    },
    {
      "cell_type": "code",
      "source": [
        "#plots for loss and accuracy\n",
        "\n",
        "sns.set_style('whitegrid')\n",
        "plt.rcParams.update({'font.size':15})\n",
        "\n",
        "def plot_losses(train_losses, test_losses, train_accuracies, test_accuracies):\n",
        "    clear_output()\n",
        "    fig, axs = plt.subplots(1,2,figsize = (13,4))\n",
        "    axs[0].plot(range(1, len(train_losses)+1), train_losses, label = 'train')\n",
        "    axs[0].plot(range(1, len(test_losses)+1), test_losses, label = 'test')\n",
        "    axs[0].set_ylabel('loss')\n",
        "\n",
        "    axs[1].plot(range(1, len(train_accuracies)+1), train_accuracies, label = 'train')\n",
        "    axs[1].plot(range(1, len(test_accuracies)+1), test_accuracies, label = 'test')\n",
        "    axs[1].set_ylabel('accuracy')\n",
        "\n",
        "    for ax in axs:\n",
        "        ax.set_xlabel('epoch')\n",
        "        ax.legend()\n",
        "\n",
        "    plt.show()"
      ],
      "metadata": {
        "id": "yq1P0hboZLAr"
      },
      "execution_count": null,
      "outputs": []
    },
    {
      "cell_type": "code",
      "source": [
        "def training_epoch(model, oprimizer, criterion, train_loader, tqdm_desc):\n",
        "    train_loss, train_accuracy = 0.0, 0.0\n",
        "    model.train()\n",
        "    for images, labels in tqdm(train_loader, desc=tqdm_desc):\n",
        "        images = images.to(device)\n",
        "        labels = labels.to(device)\n",
        "\n",
        "        oprimizer.zero_grad()\n",
        "        logits = model(images)\n",
        "        loss = criterion(logits, labels)\n",
        "        loss.backward()\n",
        "        optimizer.step()\n",
        "\n",
        "        train_loss += loss.item() * images.shape[0]\n",
        "        train_accuracy += (logits.argmax(dim=1) == labels).sum().item()\n",
        "\n",
        "    train_loss /= len(train_loader.dataset)\n",
        "    train_accuracy /= len(train_loader.dataset)\n",
        "    return train_loss, train_accuracy\n",
        "\n",
        "@torch.no_grad()\n",
        "def validation_epoch(model, criterion, test_loader, tqdm_desc):\n",
        "    test_loss, test_accuracy = 0.0, 0.0\n",
        "    model.eval()\n",
        "    for images, labels in tqdm(test_loader, desc=tqdm_desc):\n",
        "        images = images.to(device)\n",
        "        labels = labels.to(device)\n",
        "        logits = model(images)\n",
        "        loss = criterion(logits, labels)\n",
        "\n",
        "\n",
        "        test_loss += loss.item() * images.shape[0]\n",
        "        test_accuracy += (logits.argmax(dim=1) == labels).sum().item()\n",
        "\n",
        "    test_loss /= len(test_loader.dataset)\n",
        "    test_accuracy /= len(test_loader.dataset)\n",
        "    return test_loss, test_accuracy"
      ],
      "metadata": {
        "id": "2ut4jGd4ZkFu"
      },
      "execution_count": null,
      "outputs": []
    },
    {
      "cell_type": "code",
      "source": [
        "def train(model, optimizer, scheduler, criterion, train_loader, test_loader, num_epochs):\n",
        "    train_losses, train_accuracies = [], []\n",
        "    test_losses, test_accuracies = [], []\n",
        "\n",
        "    for epoch in range(1, num_epochs + 1):\n",
        "        train_loss, train_accuracy = training_epoch(model, optimizer, criterion, train_loader, tqdm_desc = f'Training {epoch}/{num_epochs}')\n",
        "        test_loss, test_accuracy = validation_epoch(model, criterion, test_loader, tqdm_desc = f'Validation {epoch}/{num_epochs}')\n",
        "\n",
        "\n",
        "        if scheduler is not None:\n",
        "            scheduler.step()\n",
        "\n",
        "\n",
        "        train_losses += [train_loss]\n",
        "        train_accuracies += [train_accuracy]\n",
        "        test_losses += [test_loss]\n",
        "        test_accuracies += [test_accuracy]\n",
        "        plot_losses(train_losses, test_losses, train_accuracies, test_accuracies)\n",
        "\n",
        "    return train_losses, test_losses, train_accuracies, test_accuracies"
      ],
      "metadata": {
        "id": "V-7PnSalZsKP"
      },
      "execution_count": null,
      "outputs": []
    },
    {
      "cell_type": "code",
      "source": [
        "!ls /content/drive/MyDrive/mushrooms/mushroomData\n"
      ],
      "metadata": {
        "colab": {
          "base_uri": "https://localhost:8080/"
        },
        "id": "KbwTOqPYXDnh",
        "outputId": "b4d97a44-a107-4eeb-a1f5-d2b03bb056d7"
      },
      "execution_count": null,
      "outputs": [
        {
          "output_type": "stream",
          "name": "stdout",
          "text": [
            "'Amanita muscaria'\t  Flammulina\t\t 'Inonotus obliquus'\t    'Sarcoscypha austriaca'\n",
            "'Boletus edulis'\t 'Fomes fomentarius'\t 'Laetiporus sulphureus'    'Vulpicida pinastri'\n",
            "'Cantharellus cibarius'  'Fomitopsis betulina'\t 'Leccinum scabrum'\t    'Xanthoria parietina'\n",
            "'Cetraria islandica'\t 'Fomitopsis pinicola'\t 'Parmelia sulcata'\n",
            "'Coprinus comatus'\t 'Ganoderma applanatum'  'Platismatia glauca'\n",
            "'Evernia prunastri'\t 'Hypogymnia physodes'\t 'Pseudevernia furfuracea'\n"
          ]
        }
      ]
    },
    {
      "cell_type": "code",
      "source": [
        "# custom dataset class\n",
        "\n",
        "class MushroomDataset(Dataset):\n",
        "    SPLIT_RANDOM_SEED = 42\n",
        "    TEST_SIZE = 0.25\n",
        "# path to root directory\n",
        "    def __init__(self, root='/content/drive/MyDrive/mushrooms/mushroomData', train=True, load_to_ram=False, transform=None):\n",
        "        super(MushroomDataset, self).__init__()\n",
        "        self.root = root\n",
        "        self.train = train\n",
        "        self.load_to_ram = load_to_ram\n",
        "        self.transform = transform\n",
        "        self.all_files = []\n",
        "        self.all_labels = []\n",
        "        self.images = []\n",
        "\n",
        "        # sorted list of all classes\n",
        "        self.classes = sorted(os.listdir(self.root))\n",
        "\n",
        "\n",
        "        for i, class_name in enumerate(self.classes):\n",
        "            class_dir = os.path.join(self.root, class_name)\n",
        "            files = sorted(os.listdir(class_dir))\n",
        "            train_files, test_files = train_test_split(files, random_state=self.SPLIT_RANDOM_SEED + i, test_size=self.TEST_SIZE)\n",
        "\n",
        "\n",
        "            selected_files = train_files if self.train else test_files\n",
        "            self.all_files += [os.path.join(class_name, f) for f in selected_files]\n",
        "            self.all_labels += [i] * len(selected_files)\n",
        "\n",
        "\n",
        "            if self.load_to_ram:\n",
        "                self.images += [Image.open(os.path.join(class_dir, f)).convert('RGB') for f in selected_files]\n",
        "\n",
        "    def __len__(self):\n",
        "        return len(self.all_files)\n",
        "\n",
        "    def __getitem__(self, idx):\n",
        "        label = self.all_labels[idx]\n",
        "        if self.load_to_ram:\n",
        "            image = self.images[idx]\n",
        "        else:\n",
        "            image_path = os.path.join(self.root, self.all_files[idx])\n",
        "            image = Image.open(image_path).convert('RGB')\n",
        "\n",
        "\n",
        "        if self.transform:\n",
        "            image = self.transform(image)\n",
        "\n",
        "        return image, label"
      ],
      "metadata": {
        "id": "qvLePWRyYXbs"
      },
      "execution_count": null,
      "outputs": []
    },
    {
      "cell_type": "code",
      "source": [
        "train_dataset = MushroomDataset(root = '/content/drive/MyDrive/mushrooms/mushroomData', train=True)"
      ],
      "metadata": {
        "id": "gyJnpPtSY3gE"
      },
      "execution_count": null,
      "outputs": []
    },
    {
      "cell_type": "code",
      "source": [
        "image, label = train_dataset[4080]\n",
        "label"
      ],
      "metadata": {
        "colab": {
          "base_uri": "https://localhost:8080/"
        },
        "id": "oleCPH2GbDBr",
        "outputId": "dfdf02a4-9d36-47ae-a12b-e5550eb57708"
      },
      "execution_count": null,
      "outputs": [
        {
          "output_type": "execute_result",
          "data": {
            "text/plain": [
              "20"
            ]
          },
          "metadata": {},
          "execution_count": 9
        }
      ]
    },
    {
      "cell_type": "code",
      "source": [
        "normalize = T.Normalize(mean = [0.485, 0.456, 0.406], std = [0.229, 0.224, 0.225])\n",
        "\n",
        "\n",
        "train_transform = T.Compose([\n",
        "    T.RandomResizedCrop(224),\n",
        "    T.RandomHorizontalFlip(),\n",
        "    T.ToTensor(),\n",
        "    normalize,\n",
        "])\n",
        "\n",
        "test_transform = T.Compose([\n",
        "    T.Resize(256),\n",
        "    T.CenterCrop(224),\n",
        "    T.ToTensor(),\n",
        "    normalize,\n",
        "])"
      ],
      "metadata": {
        "id": "1H3JzJSWck_B"
      },
      "execution_count": null,
      "outputs": []
    },
    {
      "cell_type": "code",
      "source": [
        "train_dataset = MushroomDataset(root = '/content/drive/MyDrive/mushrooms/mushroomData', train=True, load_to_ram=False, transform=train_transform)\n",
        "test_dataset = MushroomDataset(root = '/content/drive/MyDrive/mushrooms/mushroomData', train=False, load_to_ram=False, transform=test_transform)\n",
        "\n",
        "train_loader = DataLoader(train_dataset, batch_size=32, shuffle=True, pin_memory=True)\n",
        "test_loader = DataLoader(test_dataset, batch_size=32, shuffle=False, pin_memory=True)"
      ],
      "metadata": {
        "id": "3YUIdYa6c84Q"
      },
      "execution_count": null,
      "outputs": []
    },
    {
      "cell_type": "code",
      "source": [
        "from torchvision.models import mobilenet_v2, MobileNet_V2_Weights"
      ],
      "metadata": {
        "id": "kBPoKv0jdKhR"
      },
      "execution_count": null,
      "outputs": []
    },
    {
      "cell_type": "code",
      "source": [
        "device = torch.device('cuda:0' if torch.cuda.is_available() else 'cpu')"
      ],
      "metadata": {
        "id": "KXkYoMJTdf-F"
      },
      "execution_count": null,
      "outputs": []
    },
    {
      "cell_type": "code",
      "source": [
        "model = mobilenet_v2(weights = MobileNet_V2_Weights.IMAGENET1K_V1)"
      ],
      "metadata": {
        "colab": {
          "base_uri": "https://localhost:8080/"
        },
        "id": "YW7OuHzteVnc",
        "outputId": "a5f299b5-6012-4db7-d13e-59e8cdd48b7b"
      },
      "execution_count": null,
      "outputs": [
        {
          "output_type": "stream",
          "name": "stderr",
          "text": [
            "Downloading: \"https://download.pytorch.org/models/mobilenet_v2-b0353104.pth\" to /root/.cache/torch/hub/checkpoints/mobilenet_v2-b0353104.pth\n",
            "100%|██████████| 13.6M/13.6M [00:00<00:00, 118MB/s]\n"
          ]
        }
      ]
    },
    {
      "cell_type": "code",
      "source": [
        "num_epochs = 20"
      ],
      "metadata": {
        "id": "aq3cpfTVen-x"
      },
      "execution_count": null,
      "outputs": []
    },
    {
      "cell_type": "code",
      "source": [
        "model.classifier[1] = torch.nn.Linear(1280, len(train_dataset.classes))\n",
        "model = model.to(device)\n",
        "\n",
        "\n",
        "optimizer = torch.optim.SGD(model.parameters(), lr = 0.01, momentum = 0.9)\n",
        "criterion = torch.nn.CrossEntropyLoss()\n",
        "scheduler = torch.optim.lr_scheduler.CosineAnnealingLR(optimizer, num_epochs)"
      ],
      "metadata": {
        "id": "-A_Ebq4_ed-8"
      },
      "execution_count": null,
      "outputs": []
    },
    {
      "cell_type": "code",
      "source": [
        "train_losses, test_losses, train_accuracies, test_accuracies = train(model, optimizer, scheduler, criterion, train_loader, test_loader, num_epochs)"
      ],
      "metadata": {
        "colab": {
          "base_uri": "https://localhost:8080/",
          "height": 400
        },
        "id": "HYwaNoD-erB7",
        "outputId": "55bd1677-1328-4db6-86af-949cb1ee922f"
      },
      "execution_count": null,
      "outputs": [
        {
          "output_type": "display_data",
          "data": {
            "text/plain": [
              "<Figure size 1300x400 with 2 Axes>"
            ],
            "image/png": "[encoded data removed]"
          },
          "metadata": {}
        }
      ]
    },
    {
      "cell_type": "code",
      "source": [
        "\n",
        "torch.save(model, '/content/drive/MyDrive/mushrooms/model_mushrooms_mobilenet.pth')\n"
      ],
      "metadata": {
        "id": "tfpyQXBiv6Jf"
      },
      "execution_count": null,
      "outputs": []
    },
    {
      "cell_type": "code",
      "source": [
        "torch.save(model.state_dict(), '/content/drive/MyDrive/mushrooms/model_mushrooms_mobilenet_weights.pth')\n"
      ],
      "metadata": {
        "id": "CsxFl5jCwOEK"
      },
      "execution_count": null,
      "outputs": []
    },
    {
      "cell_type": "code",
      "source": [
        "# just photo for test\n",
        "image = Image.open('/content/drive/MyDrive/mushrooms/lisichka.jpg')"
      ],
      "metadata": {
        "id": "mRK7FieZyV62"
      },
      "execution_count": null,
      "outputs": []
    },
    {
      "cell_type": "code",
      "source": [
        "# preprocessing before inference\n",
        "\n",
        "transform = T.Compose([\n",
        "    T.Resize((256, 256)),\n",
        "    T.ToTensor(),\n",
        "    T.Lambda(lambda x: x[:3, :, :]), # if there's alpha\n",
        "    T.Normalize(mean=[0.485, 0.456, 0.406], std=[0.229, 0.224, 0.225])\n",
        "])\n",
        "\n",
        "image = transform(image).unsqueeze(0)\n",
        "image = image.to(device)"
      ],
      "metadata": {
        "id": "SOFu3tNYyodE"
      },
      "execution_count": null,
      "outputs": []
    },
    {
      "cell_type": "code",
      "source": [
        "model.eval()\n",
        "with torch.no_grad():\n",
        "    outputs = model(image)\n",
        "    _, predicted = torch.max(outputs, 1)\n",
        "print(\"Predicted class:\", predicted.item())\n"
      ],
      "metadata": {
        "id": "QClDMDoUyen4"
      },
      "execution_count": null,
      "outputs": []
    },
    {
      "cell_type": "code",
      "source": [
        "mushroom_labels = {\n",
        "    0: 'Amanita muscaria',\n",
        "    1: 'Boletus edulis',\n",
        "    2: 'Cantharellus cibarius',\n",
        "    3: 'Cetraria islandica',\n",
        "    4: 'Coprinus comatus',\n",
        "    5: 'Evernia prunastri',\n",
        "    6: 'Flammulina',\n",
        "    7: 'Fomes fomentarius',\n",
        "    8: 'Fomitopsis betulina',\n",
        "    9: 'Fomitopsis pinicola',\n",
        "    10: 'Ganoderma applanatum',\n",
        "    11: 'Hypogymnia physodes',\n",
        "    12: 'Inonotus obliquus',\n",
        "    13: 'Laetiporus sulphureus',\n",
        "    14: 'Leccinum scabrum',\n",
        "    15: 'Parmelia sulcata',\n",
        "    16: 'Platismatia glauca',\n",
        "    17: 'Pseudevernia furfuracea',\n",
        "    18: 'Sarcoscypha austriaca',\n",
        "    19: 'Vulpicida pinastri',\n",
        "    20: 'Xanthoria parietina'\n",
        "}"
      ],
      "metadata": {
        "id": "4ceHeWhz3c9W"
      },
      "execution_count": null,
      "outputs": []
    },
    {
      "cell_type": "code",
      "source": [
        "print(mushroom_labels[predicted.item()])"
      ],
      "metadata": {
        "id": "wLy4qn5r3e9Y"
      },
      "execution_count": null,
      "outputs": []
    }
  ]
}